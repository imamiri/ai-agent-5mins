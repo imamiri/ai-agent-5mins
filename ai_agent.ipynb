{
 "cells": [
  {
   "cell_type": "code",
   "execution_count": 1,
   "id": "dbf13b32-5f9a-4744-9011-b9e2cbca501e",
   "metadata": {},
   "outputs": [],
   "source": [
    "from openai import OpenAI\n",
    "import re"
   ]
  },
  {
   "cell_type": "code",
   "execution_count": 2,
   "id": "6bcf59eb-9b17-467e-8bdc-c52fddede3d4",
   "metadata": {},
   "outputs": [],
   "source": [
    "client =  OpenAI(\n",
    "    api_key=\"YOUR_API_KEY\"\n",
    ")"
   ]
  },
  {
   "cell_type": "code",
   "execution_count": 3,
   "id": "f92bcdaf-c300-4f3e-91bd-083931742803",
   "metadata": {},
   "outputs": [],
   "source": [
    "class Agent:\n",
    "    def __init__(self, system=\"\"):\n",
    "        self.system = system\n",
    "        self.messages = []\n",
    "        if self.system:\n",
    "            self.messages.append({\"role\": \"system\", \"content\": system})\n",
    "\n",
    "    def __call__(self, message):\n",
    "        self.messages.append({\"role\": \"user\", \"content\": message})\n",
    "        result = self.execute()\n",
    "        self.messages.append({\"role\": \"assistant\", \"content\": result})\n",
    "        return result\n",
    "\n",
    "    def execute(self):\n",
    "        completion = client.chat.completions.create(\n",
    "                        model=\"gpt-4o\", \n",
    "                        temperature=0,\n",
    "                        messages=self.messages)\n",
    "        return completion.choices[0].message.content"
   ]
  },
  {
   "cell_type": "code",
   "execution_count": 4,
   "id": "66f691a3-f0d1-4b13-84f0-3717e8262751",
   "metadata": {
    "scrolled": true
   },
   "outputs": [],
   "source": [
    "prompt = \"\"\"\n",
    "You will follow a loop of Thought, Action, PAUSE and Response. The goal is to get an answer at the end.\n",
    "    Thought: Think about how to answer the question.\n",
    "    Action: Use one of the available actions to get information - then return PAUSE.\n",
    "    Response: After the action is complete, respond with the result.\n",
    "\n",
    "Available actions:\n",
    "    lookup_capital: Finds the capital city of a country. Example: lookup_capital: France, Result: Returns the capital city (e.g., \"Paris\").\n",
    "    find_population: Looks up the population of a country or city. Example: find_population: Tokyo, Result: Returns the population (e.g., \"14 million\").\n",
    "\n",
    "Example conversation:\n",
    "\n",
    "Question: What is the population of capital city of France?\n",
    "\n",
    "    Thought: I should find the capital city of France.\n",
    "    Action: lookup_capital: Paris\n",
    "    PAUSE\n",
    "\n",
    "Then you'll find the population of the capital city:\n",
    "\n",
    "Response: The population of Paris is approximately 2.1 million people.\n",
    "\n",
    "Finally, respond:\n",
    "\n",
    "Answer: The population of Paris is approximately 2.1 million people.\n",
    "\"\"\".strip()"
   ]
  },
  {
   "cell_type": "code",
   "execution_count": 5,
   "id": "3a409ec0-03fa-48a2-94f1-3432dc9cda83",
   "metadata": {},
   "outputs": [],
   "source": [
    "def lookup_capital(country):\n",
    "    capitals = {\n",
    "        \"France\": \"Paris\",\n",
    "        \"Germany\": \"Berlin\",\n",
    "        \"Japan\": \"Tokyo\",\n",
    "        \"USA\": \"Washington, D.C.\",\n",
    "        \"Canada\": \"Ottawa\",\n",
    "    }\n",
    "    return capitals.get(country, \"Capital not found for {}\".format(country))\n",
    "\n",
    "def find_population(city):\n",
    "    populations = {\n",
    "        \"Tokyo\": \"14 million\",\n",
    "        \"New York\": \"8.3 million\",\n",
    "        \"London\": \"9 million\",\n",
    "        \"Paris\": \"2.1 million\",\n",
    "        \"Sydney\": \"5.3 million\",\n",
    "    }\n",
    "    return populations.get(city, \"Population data not found for {}\".format(city))\n",
    "\n",
    "known_actions = {\n",
    "    \"find_population\": find_population,\n",
    "    \"lookup_capital\": lookup_capital\n",
    "}"
   ]
  },
  {
   "cell_type": "code",
   "execution_count": 6,
   "id": "6abc18cc-c4ba-40e4-8d5f-b5302a8f3e60",
   "metadata": {},
   "outputs": [],
   "source": [
    "action_re = re.compile('^Action: (\\w+): (.*)$')  "
   ]
  },
  {
   "cell_type": "code",
   "execution_count": 7,
   "id": "b59325c7-c0c0-42eb-a361-c108e612bd06",
   "metadata": {},
   "outputs": [],
   "source": [
    "def query(question, max_turns=5):\n",
    "    i = 0\n",
    "    aiagent = Agent(prompt)\n",
    "    next_prompt = question\n",
    "    while i < max_turns:\n",
    "        i += 1\n",
    "        result = aiagent(next_prompt)\n",
    "        print(result)\n",
    "        actions = [\n",
    "            action_re.match(a) \n",
    "            for a in result.split('\\n') \n",
    "            if action_re.match(a)\n",
    "        ]\n",
    "        if actions:\n",
    "            action, action_input = actions[0].groups()\n",
    "            if action not in known_actions:\n",
    "                raise Exception(\"Unknown action: {}: {}\".format(action, action_input))\n",
    "            print(\" -- running {} {}\".format(action, action_input))\n",
    "            response = known_actions[action](action_input)\n",
    "            print(\"Response:\", response)\n",
    "            next_prompt = \"Response: {}\".format(response)\n",
    "        else:\n",
    "            return"
   ]
  },
  {
   "cell_type": "code",
   "execution_count": 8,
   "id": "3953b4a2-9ba9-420e-89df-7ff98457257b",
   "metadata": {},
   "outputs": [],
   "source": [
    "def main():\n",
    "    print(\"Welcome to the Custom AI agent! Type 'exit' to end the conversation.\")\n",
    "    aiagent = Agent(prompt)\n",
    "    agent_input = input(\"You: \")\n",
    "    while True:\n",
    "\n",
    "        # Check for the exit condition\n",
    "        if agent_input.lower() == \"exit\":\n",
    "            print(\"Goodbye!\")\n",
    "            break\n",
    "\n",
    "        response = aiagent(agent_input)\n",
    "        agent_input = response\n",
    "        print(\"AI: \" + response)\n",
    "        if \"Answer: \" in response:\n",
    "            print(\"If you have any more questions or need further assistance, feel free to ask.\")\n",
    "            agent_input = input(\"You: \")"
   ]
  },
  {
   "cell_type": "code",
   "execution_count": 9,
   "id": "d6a3f47b-980d-4d31-a88b-b3812e9a7df2",
   "metadata": {},
   "outputs": [
    {
     "name": "stdout",
     "output_type": "stream",
     "text": [
      "Welcome to the Custom AI agent! Type 'exit' to end the conversation.\n"
     ]
    },
    {
     "name": "stdout",
     "output_type": "stream",
     "text": [
      "You:  What's the population of the capital city of Japan?\n"
     ]
    },
    {
     "name": "stdout",
     "output_type": "stream",
     "text": [
      "AI:     Thought: I need to find the capital city of Japan first.\n",
      "    Action: lookup_capital: Japan\n",
      "    PAUSE\n",
      "AI: Response: The capital city of Japan is Tokyo.\n",
      "\n",
      "    Thought: Now I need to find the population of Tokyo.\n",
      "    Action: find_population: Tokyo\n",
      "    PAUSE\n",
      "AI: Response: The population of Tokyo is approximately 14 million people.\n",
      "\n",
      "Answer: The population of Tokyo is approximately 14 million people.\n",
      "If you have any more questions or need further assistance, feel free to ask.\n"
     ]
    },
    {
     "name": "stdout",
     "output_type": "stream",
     "text": [
      "You:  What's the population of capital city of France?\n"
     ]
    },
    {
     "name": "stdout",
     "output_type": "stream",
     "text": [
      "AI:     Thought: I need to find the capital city of France first.\n",
      "    Action: lookup_capital: France\n",
      "    PAUSE\n",
      "AI: Response: The capital city of France is Paris.\n",
      "\n",
      "    Thought: Now I need to find the population of Paris.\n",
      "    Action: find_population: Paris\n",
      "    PAUSE\n",
      "AI: Response: The population of Paris is approximately 2.1 million people.\n",
      "\n",
      "Answer: The population of Paris is approximately 2.1 million people.\n",
      "If you have any more questions or need further assistance, feel free to ask.\n"
     ]
    },
    {
     "name": "stdout",
     "output_type": "stream",
     "text": [
      "You:  exit\n"
     ]
    },
    {
     "name": "stdout",
     "output_type": "stream",
     "text": [
      "Goodbye!\n"
     ]
    }
   ],
   "source": [
    "if __name__ == \"__main__\":\n",
    "    main()"
   ]
  },
  {
   "cell_type": "code",
   "execution_count": null,
   "id": "25ab0431-2827-413f-a98a-7c7c3c014e38",
   "metadata": {},
   "outputs": [],
   "source": []
  }
 ],
 "metadata": {
  "kernelspec": {
   "display_name": "Python 3 (ipykernel)",
   "language": "python",
   "name": "python3"
  },
  "language_info": {
   "codemirror_mode": {
    "name": "ipython",
    "version": 3
   },
   "file_extension": ".py",
   "mimetype": "text/x-python",
   "name": "python",
   "nbconvert_exporter": "python",
   "pygments_lexer": "ipython3",
   "version": "3.11.10"
  }
 },
 "nbformat": 4,
 "nbformat_minor": 5
}
